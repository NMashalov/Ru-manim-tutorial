{
  "nbformat": 4,
  "nbformat_minor": 0,
  "metadata": {
    "colab": {
      "provenance": [],
      "authorship_tag": "ABX9TyOfaHJOf6xsL34LpjSs/21c",
      "include_colab_link": true
    },
    "kernelspec": {
      "name": "python3",
      "display_name": "Python 3"
    },
    "language_info": {
      "name": "python"
    }
  },
  "cells": [
    {
      "cell_type": "markdown",
      "metadata": {
        "id": "view-in-github",
        "colab_type": "text"
      },
      "source": [
        "<a href=\"https://colab.research.google.com/github/NMashalov/manim_tutorial/blob/main/Manim_geometry.ipynb\" target=\"_parent\"><img src=\"https://colab.research.google.com/assets/colab-badge.svg\" alt=\"Open In Colab\"/></a>"
      ]
    },
    {
      "cell_type": "code",
      "source": [
        "from IPython.display import clear_output\n",
        "!sudo apt update\n",
        "!sudo apt install libcairo2-dev ffmpeg \\\n",
        "    texlive texlive-latex-extra texlive-fonts-extra \\\n",
        "    texlive-latex-recommended texlive-science \\\n",
        "    tipa libpango1.0-dev\n",
        "!pip install manim\n",
        "!pip install IPython --upgrade\n",
        "clear_output(wait=True)"
      ],
      "metadata": {
        "id": "wmJqWjdrGEXi"
      },
      "execution_count": null,
      "outputs": []
    },
    {
      "cell_type": "code",
      "source": [
        "# перезапускаемся\n",
        "import os\n",
        "os.kill(os.getpid(), 9)"
      ],
      "metadata": {
        "id": "8qBrB7kJGFt6"
      },
      "execution_count": null,
      "outputs": []
    },
    {
      "cell_type": "code",
      "source": [
        "# проверяем, что все работает :)\n",
        "from manim import (\n",
        "    Scene,\n",
        "    FadeIn, FadeOut,\n",
        "    Group, VGroup,\n",
        "    Transform,\n",
        "    Tex,MathTex, Write,\n",
        "    LaggedStart,\n",
        "    DOWN, UP, LEFT, RIGHT,\n",
        "    RED, BLUE, GREEN\n",
        ")"
      ],
      "metadata": {
        "id": "7eTm0mRwGGpB"
      },
      "execution_count": null,
      "outputs": []
    },
    {
      "cell_type": "code",
      "source": [
        "%%manim -qm -v WARNING OpeningManim\n",
        "class Test(Scene):\n",
        "    def construct(self):\n",
        "        def f(t):\n",
        "            a, k = 2, 10\n",
        "            x = a*np.cos(k*t+PI/2)*np.cos(t)\n",
        "            y = a*np.cos(k*t+PI/2)*np.sin(t)\n",
        "            return np.array((x, y, 0))\n",
        "        func = ParametricFunction(f, t_range=np.array([0, TAU, 0.1]))\n",
        "        func = func.set_color(BLUE).set_stroke(width=1).set_fill(BLUE, opacity=0.5)\n",
        "        self.play(Create(func, run_time=8, rate_func=linear))\n",
        "        self.wait()"
      ],
      "metadata": {
        "id": "2QEpip0aOr4r"
      },
      "execution_count": null,
      "outputs": []
    },
    {
      "cell_type": "code",
      "execution_count": null,
      "metadata": {
        "id": "RpZvs90RGCw4"
      },
      "outputs": [],
      "source": [
        "%%manim -qm -v WARNING SquareToCircle\n",
        "\n",
        "class SquareToCircle(Scene):\n",
        "   def construct(self):\n",
        "      square = Square()\n",
        "      circle = Circle()\n",
        "      circle.set_fill(PINK, opacity=0.5)\n",
        "      self.play(Create(square))\n",
        "      self.play(Transform(square, circle))\n",
        "      self.wait()"
      ]
    },
    {
      "cell_type": "code",
      "source": [
        "%%manim -qm -v WARNING ContinuousMotion\n",
        "\n",
        "class ContinuousMotion(Scene):\n",
        "    def construct(self):\n",
        "        func = lambda pos: np.sin(pos[0] / 2) * UR + np.cos(pos[1] / 2) * LEFT\n",
        "        stream_lines = StreamLines(func, stroke_width=2, max_anchors_per_line=30)\n",
        "        self.add(stream_lines)\n",
        "        stream_lines.start_animation(warm_up=False, flow_speed=1.5)\n",
        "        self.wait(stream_lines.virtual_time / stream_lines.flow_speed)"
      ],
      "metadata": {
        "id": "Q7QVT68ydZ2P"
      },
      "execution_count": null,
      "outputs": []
    }
  ]
}