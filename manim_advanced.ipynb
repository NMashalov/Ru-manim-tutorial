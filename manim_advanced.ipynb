{
  "nbformat": 4,
  "nbformat_minor": 0,
  "metadata": {
    "colab": {
      "provenance": [],
      "authorship_tag": "ABX9TyN1n8FYkbi4K81MmYiTOEgv",
      "include_colab_link": true
    },
    "kernelspec": {
      "name": "python3",
      "display_name": "Python 3"
    },
    "language_info": {
      "name": "python"
    }
  },
  "cells": [
    {
      "cell_type": "markdown",
      "metadata": {
        "id": "view-in-github",
        "colab_type": "text"
      },
      "source": [
        "<a href=\"https://colab.research.google.com/github/NMashalov/Ru-manim-tutorial/blob/main/manim_advanced.ipynb\" target=\"_parent\"><img src=\"https://colab.research.google.com/assets/colab-badge.svg\" alt=\"Open In Colab\"/></a>"
      ]
    },
    {
      "cell_type": "code",
      "execution_count": 1,
      "metadata": {
        "id": "RBsauZ-KCjfr"
      },
      "outputs": [],
      "source": [
        "from IPython.display import clear_output\n",
        "!sudo apt update  > /dev/null\n",
        "!sudo apt install libcairo2-dev ffmpeg \\\n",
        "    texlive texlive-latex-extra texlive-fonts-extra \\\n",
        "    texlive-latex-recommended texlive-science \\\n",
        "    tipa libpango1.0-dev \\\n",
        "    texlive-lang-cyrillic  > /dev/null\n",
        "\n",
        "!pip install manim\n",
        "!pip install IPython --upgrade\n",
        "clear_output()"
      ]
    },
    {
      "cell_type": "code",
      "source": [
        "# перезапускаемся\n",
        "import os\n",
        "os.kill(os.getpid(), 9)"
      ],
      "metadata": {
        "id": "AYCvDv0pDDTw"
      },
      "execution_count": null,
      "outputs": []
    },
    {
      "cell_type": "code",
      "source": [
        "# проверяем, что все работает :)\n",
        "from manim import (\n",
        "    Scene,\n",
        "    FadeIn, FadeOut,\n",
        "    Group, VGroup,\n",
        "    Transform,\n",
        "    Text,Tex,MathTex, Write,\n",
        "    LaggedStart,\n",
        "    DOWN, UP, LEFT, RIGHT,\n",
        "    RED, BLUE, GREEN, WHITE\n",
        ")\n",
        "# включаем русский язык для tex\n",
        "from manim import TexTemplate\n",
        "TexTemplate.default_preamble = r'''\n",
        "\\usepackage{amsmath}\n",
        "\\usepackage{amssymb}\n",
        "\\usepackage{amsthm}\n",
        "\\usepackage[T1,TS1,T2A]{fontenc}\n",
        "\\usepackage[utf8]{inputenc}\n",
        "\\usepackage[russian,english]{babel}'''"
      ],
      "metadata": {
        "id": "zdfwZYpdDK8z"
      },
      "execution_count": null,
      "outputs": []
    },
    {
      "cell_type": "markdown",
      "source": [
        "## Работа с графами\n",
        "Документация: https://docs.manim.community/en/stable/reference/manim.mobject.graph.Graph.html#manim.mobject.graph.Graph"
      ],
      "metadata": {
        "id": "qI-7d23UDUcp"
      }
    },
    {
      "cell_type": "markdown",
      "source": [
        "### Ненаправленный граф"
      ],
      "metadata": {
        "id": "-MFCgi7lDgI8"
      }
    },
    {
      "cell_type": "code",
      "source": [
        "from manim import Graph"
      ],
      "metadata": {
        "id": "xAkJPwnhDwhF"
      },
      "execution_count": null,
      "outputs": []
    },
    {
      "cell_type": "code",
      "source": [
        "class ChangeGraphLayout(Scene):\n",
        "    def construct(self):\n",
        "        G = Graph(\n",
        "            [1, 2, 3, 4, 5],\n",
        "         [(1, 2), (2, 3), (3, 4), (4, 5)],\n",
        "        layout={\n",
        "            1: [-2, 0, 0],\n",
        "            2: [-1, 0, 0],\n",
        "            3: [0, 0, 0],\n",
        "            4: [1, 0, 0],\n",
        "            5: [2, 0, 0]}\n",
        "        )\n",
        "\n",
        "        g =Group(\n",
        "            Text('Граф задается вершинами и ребрами'),\n",
        "            G\n",
        "        )\n",
        "\n",
        "        self.play(Create(g))\n",
        "\n",
        "        self.wait()"
      ],
      "metadata": {
        "id": "J8ZG2tqSDUBF"
      },
      "execution_count": null,
      "outputs": []
    },
    {
      "cell_type": "code",
      "source": [],
      "metadata": {
        "id": "l-PB2ISZNHFa"
      },
      "execution_count": null,
      "outputs": []
    },
    {
      "cell_type": "code",
      "source": [
        "class GraphExample(Scene):\n",
        "    def construct(self):\n",
        "        # the graph class expects a list of vertices and edges\n",
        "        vertices = [1, 2, 3, 4, 5, 6, 7, 8, 9, 10, 11]\n",
        "        edges = [(1, 2), (2, 3), (3, 4), (2, 4), (2, 5), (6, 5),\n",
        "                 (1, 7), (5, 7), (2, 8), (1, 9), (10, 8), (5, 11)]\n",
        "\n",
        "        # we're using the layout_config's seed parameter to deterministically set the\n",
        "        # vertex positions (it is otherwise set randomly)\n",
        "        g = Graph(vertices, edges, layout_config={\"seed\": 0}).scale(1.6)\n",
        "\n",
        "        self.play(Write(g))\n",
        "\n",
        "        # the graph contains updaters that align edges with their vertices\n",
        "        self.play(g.vertices[6].animate.shift((LEFT + DOWN) * 0.5))\n",
        "\n",
        "        self.play(g.animate.shift(LEFT * 3))\n",
        "\n",
        "        # the graphs can also contain labels and be organized into specific layouts\n",
        "        # (see the Graph class documentation for the list of all possible layouts)\n",
        "        h = Graph(vertices, edges, labels=True, layout=\"circular\").shift(RIGHT * 3)\n",
        "\n",
        "        self.play(Write(h))\n",
        "\n",
        "        # color the vertex 5 and all of its neighbours\n",
        "        v = 5\n",
        "        self.play(\n",
        "            Flash(g.vertices[v], color=RED, flash_radius=0.5),\n",
        "            g.vertices[v].animate.set_color(RED),\n",
        "            *[g.edges[e].animate.set_color(RED) for e in g.edges if v in e],\n",
        "        )"
      ],
      "metadata": {
        "id": "SEpehMNVMigi"
      },
      "execution_count": null,
      "outputs": []
    },
    {
      "cell_type": "markdown",
      "source": [
        "### Направленный"
      ],
      "metadata": {
        "id": "Pp9NAx7aDi1U"
      }
    },
    {
      "cell_type": "code",
      "source": [],
      "metadata": {
        "id": "9PfuOus7Dfr-"
      },
      "execution_count": null,
      "outputs": []
    },
    {
      "cell_type": "markdown",
      "source": [
        "### NX-graph\n",
        "Удобная библиотека для работы с графами"
      ],
      "metadata": {
        "id": "gDU698G7EDPf"
      }
    },
    {
      "cell_type": "markdown",
      "source": [
        "### Тренировка 🏋️\n",
        "\n",
        "Раскрасить графы"
      ],
      "metadata": {
        "id": "EoMFM1e1DNVs"
      }
    },
    {
      "cell_type": "markdown",
      "source": [
        "## Продвинутая работа с графиками"
      ],
      "metadata": {
        "id": "k_pkCIs0MDcs"
      }
    },
    {
      "cell_type": "code",
      "source": [],
      "metadata": {
        "id": "Blj0AR-YDMm8"
      },
      "execution_count": null,
      "outputs": []
    },
    {
      "cell_type": "code",
      "source": [],
      "metadata": {
        "id": "1B5-fe4vEMen"
      },
      "execution_count": null,
      "outputs": []
    }
  ]
}